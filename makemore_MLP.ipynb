{
 "cells": [
  {
   "cell_type": "code",
   "execution_count": 1,
   "metadata": {},
   "outputs": [],
   "source": [
    "import torch\n",
    "import torch.nn.functional as F\n",
    "import matplotlib.pyplot as plt\n",
    "%matplotlib inline"
   ]
  },
  {
   "cell_type": "code",
   "execution_count": 3,
   "metadata": {},
   "outputs": [
    {
     "data": {
      "text/plain": [
       "['emma', 'olivia', 'ava', 'isabella', 'sophia', 'charlotte', 'mia', 'amelia']"
      ]
     },
     "execution_count": 3,
     "metadata": {},
     "output_type": "execute_result"
    }
   ],
   "source": [
    "words=open(\"names.txt\",\"r\").read().splitlines()\n",
    "words[:8]"
   ]
  },
  {
   "cell_type": "code",
   "execution_count": 4,
   "metadata": {},
   "outputs": [
    {
     "data": {
      "text/plain": [
       "32033"
      ]
     },
     "execution_count": 4,
     "metadata": {},
     "output_type": "execute_result"
    }
   ],
   "source": [
    "len(words)"
   ]
  },
  {
   "cell_type": "code",
   "execution_count": 31,
   "metadata": {},
   "outputs": [],
   "source": [
    "#Building vocabulary of the characters\n",
    "chars=sorted(list(set(\"\".join(words))))\n",
    "stoi={ch:i+1 for i,ch in enumerate(chars)}\n",
    "stoi['.']=0\n",
    "itos={ch:i for i,ch in stoi.items()}"
   ]
  },
  {
   "cell_type": "code",
   "execution_count": 32,
   "metadata": {},
   "outputs": [
    {
     "name": "stdout",
     "output_type": "stream",
     "text": [
      "{'a': 1, 'b': 2, 'c': 3, 'd': 4, 'e': 5, 'f': 6, 'g': 7, 'h': 8, 'i': 9, 'j': 10, 'k': 11, 'l': 12, 'm': 13, 'n': 14, 'o': 15, 'p': 16, 'q': 17, 'r': 18, 's': 19, 't': 20, 'u': 21, 'v': 22, 'w': 23, 'x': 24, 'y': 25, 'z': 26, '.': 0}\n"
     ]
    }
   ],
   "source": [
    "print(stoi)"
   ]
  },
  {
   "cell_type": "code",
   "execution_count": 33,
   "metadata": {},
   "outputs": [
    {
     "name": "stdout",
     "output_type": "stream",
     "text": [
      "{1: 'a', 2: 'b', 3: 'c', 4: 'd', 5: 'e', 6: 'f', 7: 'g', 8: 'h', 9: 'i', 10: 'j', 11: 'k', 12: 'l', 13: 'm', 14: 'n', 15: 'o', 16: 'p', 17: 'q', 18: 'r', 19: 's', 20: 't', 21: 'u', 22: 'v', 23: 'w', 24: 'x', 25: 'y', 26: 'z', 0: '.'}\n"
     ]
    }
   ],
   "source": [
    "print(itos)"
   ]
  },
  {
   "cell_type": "code",
   "execution_count": 35,
   "metadata": {},
   "outputs": [
    {
     "name": "stdout",
     "output_type": "stream",
     "text": [
      "emma\n",
      "[0, 0, 0]\n",
      "5\n",
      "... ----> e\n",
      "13\n",
      "..e ----> m\n",
      "13\n",
      ".em ----> m\n",
      "1\n",
      "emm ----> a\n",
      "0\n",
      "mma ----> .\n",
      "olivia\n",
      "[0, 0, 0]\n",
      "15\n",
      "... ----> o\n",
      "12\n",
      "..o ----> l\n",
      "9\n",
      ".ol ----> i\n",
      "22\n",
      "oli ----> v\n",
      "9\n",
      "liv ----> i\n",
      "1\n",
      "ivi ----> a\n",
      "0\n",
      "via ----> .\n",
      "ava\n",
      "[0, 0, 0]\n",
      "1\n",
      "... ----> a\n",
      "22\n",
      "..a ----> v\n",
      "1\n",
      ".av ----> a\n",
      "0\n",
      "ava ----> .\n"
     ]
    }
   ],
   "source": [
    "#Build the dataset\n",
    "block_size=3     #how many characters required to predict the next character\n",
    "X,Y=[],[]\n",
    "for w in words[:3]:\n",
    "    print(w)\n",
    "    context=[0] *block_size\n",
    "    print(context)\n",
    "    for ch in w+'.':\n",
    "        ix=stoi[ch]\n",
    "        print(ix)\n",
    "        X.append(context)\n",
    "        Y.append(ix)\n",
    "        print(''.join(itos[i] for i in context),'---->',itos[ix])\n",
    "        context=context[1:]+[ix]\n",
    "\n",
    "X=torch.tensor(X)\n",
    "Y=torch.tensor(Y)"
   ]
  },
  {
   "cell_type": "code",
   "execution_count": 36,
   "metadata": {},
   "outputs": [
    {
     "data": {
      "text/plain": [
       "(torch.Size([16, 3]), torch.int64, torch.Size([16]), torch.int64)"
      ]
     },
     "execution_count": 36,
     "metadata": {},
     "output_type": "execute_result"
    }
   ],
   "source": [
    "X.shape,X.dtype,Y.shape,Y.dtype"
   ]
  },
  {
   "cell_type": "code",
   "execution_count": 37,
   "metadata": {},
   "outputs": [],
   "source": [
    "C=torch.randn((27,2))\n"
   ]
  },
  {
   "cell_type": "code",
   "execution_count": 38,
   "metadata": {},
   "outputs": [
    {
     "data": {
      "text/plain": [
       "torch.Size([16, 3, 2])"
      ]
     },
     "execution_count": 38,
     "metadata": {},
     "output_type": "execute_result"
    }
   ],
   "source": [
    "emb=C[X]\n",
    "emb.shape"
   ]
  },
  {
   "cell_type": "code",
   "execution_count": 43,
   "metadata": {},
   "outputs": [
    {
     "data": {
      "text/plain": [
       "torch.Size([16, 6])"
      ]
     },
     "execution_count": 43,
     "metadata": {},
     "output_type": "execute_result"
    }
   ],
   "source": [
    "torch.cat([emb[:,0,:],emb[:,1,:],emb[:,2,:]],1).shape"
   ]
  },
  {
   "cell_type": "code",
   "execution_count": 47,
   "metadata": {},
   "outputs": [
    {
     "data": {
      "text/plain": [
       "torch.Size([16, 6])"
      ]
     },
     "execution_count": 47,
     "metadata": {},
     "output_type": "execute_result"
    }
   ],
   "source": [
    "torch.cat(torch.unbind(emb,1),1).shape"
   ]
  },
  {
   "cell_type": "code",
   "execution_count": 48,
   "metadata": {},
   "outputs": [],
   "source": [
    "W1=torch.randn((6,100))\n",
    "b1=torch.randn(100)"
   ]
  },
  {
   "cell_type": "code",
   "execution_count": 52,
   "metadata": {},
   "outputs": [
    {
     "data": {
      "text/plain": [
       "torch.Size([16, 100])"
      ]
     },
     "execution_count": 52,
     "metadata": {},
     "output_type": "execute_result"
    }
   ],
   "source": [
    "h=torch.tanh(emb.view(-1,6) @ W1+b1)\n",
    "h.shape"
   ]
  },
  {
   "cell_type": "code",
   "execution_count": 53,
   "metadata": {},
   "outputs": [],
   "source": [
    "W2=torch.randn((100,27))\n",
    "b2=torch.randn(27)"
   ]
  },
  {
   "cell_type": "code",
   "execution_count": 55,
   "metadata": {},
   "outputs": [
    {
     "data": {
      "text/plain": [
       "torch.Size([16, 27])"
      ]
     },
     "execution_count": 55,
     "metadata": {},
     "output_type": "execute_result"
    }
   ],
   "source": [
    "logits=h @ W2 + b2\n",
    "logits.shape"
   ]
  },
  {
   "cell_type": "code",
   "execution_count": 56,
   "metadata": {},
   "outputs": [],
   "source": [
    "counts=logits.exp()"
   ]
  },
  {
   "cell_type": "code",
   "execution_count": 57,
   "metadata": {},
   "outputs": [],
   "source": [
    "prob=counts/counts.sum(1,keepdims=True)"
   ]
  },
  {
   "cell_type": "code",
   "execution_count": 59,
   "metadata": {},
   "outputs": [
    {
     "data": {
      "text/plain": [
       "torch.Size([16, 27])"
      ]
     },
     "execution_count": 59,
     "metadata": {},
     "output_type": "execute_result"
    }
   ],
   "source": [
    "prob.shape"
   ]
  },
  {
   "cell_type": "code",
   "execution_count": 64,
   "metadata": {},
   "outputs": [
    {
     "data": {
      "text/plain": [
       "torch.Size([16])"
      ]
     },
     "execution_count": 64,
     "metadata": {},
     "output_type": "execute_result"
    }
   ],
   "source": [
    "Y.shape\n"
   ]
  },
  {
   "cell_type": "code",
   "execution_count": 68,
   "metadata": {},
   "outputs": [],
   "source": [
    "loss=-prob[torch.arange(16),Y].log().mean()"
   ]
  },
  {
   "cell_type": "code",
   "execution_count": 69,
   "metadata": {},
   "outputs": [
    {
     "data": {
      "text/plain": [
       "tensor(14.6036)"
      ]
     },
     "execution_count": 69,
     "metadata": {},
     "output_type": "execute_result"
    }
   ],
   "source": [
    "loss"
   ]
  },
  {
   "cell_type": "code",
   "execution_count": 76,
   "metadata": {},
   "outputs": [
    {
     "data": {
      "text/plain": [
       "tensor(20.2417)"
      ]
     },
     "execution_count": 76,
     "metadata": {},
     "output_type": "execute_result"
    }
   ],
   "source": [
    "emb=C[X]\n",
    "h=torch.tanh(emb.view(-1,6)@W1+b1)\n",
    "logits=h@W2+b2\n",
    "counts=logits.exp()\n",
    "prob=counts/counts.sum(1,keepdims=True)\n",
    "loss=-prob[torch.arange(16),Y].log().mean()\n",
    "loss"
   ]
  },
  {
   "cell_type": "code",
   "execution_count": 77,
   "metadata": {},
   "outputs": [
    {
     "data": {
      "text/plain": [
       "tensor(20.2417)"
      ]
     },
     "execution_count": 77,
     "metadata": {},
     "output_type": "execute_result"
    }
   ],
   "source": [
    "F.cross_entropy(logits,Y)"
   ]
  },
  {
   "cell_type": "code",
   "execution_count": 101,
   "metadata": {},
   "outputs": [],
   "source": [
    "#Build the dataset\n",
    "block_size=3     #how many characters required to predict the next character\n",
    "X,Y=[],[]\n",
    "for w in words:\n",
    "    #print(w)\n",
    "    context=[0] *block_size\n",
    "    #print(context)\n",
    "    for ch in w+'.':\n",
    "        ix=stoi[ch]\n",
    "        #print(ix)\n",
    "        X.append(context)\n",
    "        Y.append(ix)\n",
    "        #print(''.join(itos[i] for i in context),'---->',itos[ix])\n",
    "        context=context[1:]+[ix]\n",
    "\n",
    "X=torch.tensor(X)\n",
    "Y=torch.tensor(Y)"
   ]
  },
  {
   "cell_type": "code",
   "execution_count": 102,
   "metadata": {},
   "outputs": [],
   "source": [
    "g=torch.Generator().manual_seed(2147483647)\n",
    "C=torch.randn((27,2),generator=g)\n",
    "W1=torch.randn((6,100),generator=g)\n",
    "b1=torch.randn(100,generator=g)\n",
    "W2=torch.randn((100,27),generator=g)\n",
    "b2=torch.randn(27,generator=g)\n",
    "parameters=[C,W1,b1,W2,b2]"
   ]
  },
  {
   "cell_type": "code",
   "execution_count": 103,
   "metadata": {},
   "outputs": [
    {
     "data": {
      "text/plain": [
       "3481"
      ]
     },
     "execution_count": 103,
     "metadata": {},
     "output_type": "execute_result"
    }
   ],
   "source": [
    "sum(p.nelement() for p in parameters)   #number of parameters in total"
   ]
  },
  {
   "cell_type": "code",
   "execution_count": 104,
   "metadata": {},
   "outputs": [],
   "source": [
    "for p in parameters:\n",
    "    p.requires_grad=True"
   ]
  },
  {
   "cell_type": "code",
   "execution_count": 105,
   "metadata": {},
   "outputs": [],
   "source": [
    "lre=torch.linspace(-3,0,1000)\n",
    "lrs=10**lre"
   ]
  },
  {
   "cell_type": "code",
   "execution_count": 106,
   "metadata": {},
   "outputs": [],
   "source": [
    "lri=[]\n",
    "lossi=[]\n",
    "for i in range(1000):\n",
    "    #Mini-Batch construct\n",
    "    ix=torch.randint(0,X.shape[0],(32,))\n",
    "    #forward pass\n",
    "    emb=C[X[ix]]\n",
    "    h=torch.tanh(emb.view(-1,6)@W1+b1)\n",
    "    logits=h@W2+b2\n",
    "    loss=F.cross_entropy(logits,Y[ix])\n",
    "    \n",
    "    \n",
    "\n",
    "    #backward pass\n",
    "    for p in parameters:\n",
    "        p.grad=None\n",
    "    loss.backward()\n",
    "\n",
    "    #update\n",
    "    lr=lrs[i]\n",
    "    for p in parameters:\n",
    "        p.data+=-lr*p.grad\n",
    "\n",
    "#track stats\n",
    "    lri.append(lr)\n",
    "    lossi.append(loss.item())\n",
    "\n",
    "\n"
   ]
  },
  {
   "cell_type": "code",
   "execution_count": 107,
   "metadata": {},
   "outputs": [
    {
     "name": "stdout",
     "output_type": "stream",
     "text": [
      "[tensor(0.0010), tensor(0.0010), tensor(0.0010), tensor(0.0010), tensor(0.0010), tensor(0.0010), tensor(0.0010), tensor(0.0010), tensor(0.0011), tensor(0.0011), tensor(0.0011), tensor(0.0011), tensor(0.0011), tensor(0.0011), tensor(0.0011), tensor(0.0011), tensor(0.0011), tensor(0.0011), tensor(0.0011), tensor(0.0011), tensor(0.0011), tensor(0.0012), tensor(0.0012), tensor(0.0012), tensor(0.0012), tensor(0.0012), tensor(0.0012), tensor(0.0012), tensor(0.0012), tensor(0.0012), tensor(0.0012), tensor(0.0012), tensor(0.0012), tensor(0.0013), tensor(0.0013), tensor(0.0013), tensor(0.0013), tensor(0.0013), tensor(0.0013), tensor(0.0013), tensor(0.0013), tensor(0.0013), tensor(0.0013), tensor(0.0013), tensor(0.0014), tensor(0.0014), tensor(0.0014), tensor(0.0014), tensor(0.0014), tensor(0.0014), tensor(0.0014), tensor(0.0014), tensor(0.0014), tensor(0.0014), tensor(0.0015), tensor(0.0015), tensor(0.0015), tensor(0.0015), tensor(0.0015), tensor(0.0015), tensor(0.0015), tensor(0.0015), tensor(0.0015), tensor(0.0015), tensor(0.0016), tensor(0.0016), tensor(0.0016), tensor(0.0016), tensor(0.0016), tensor(0.0016), tensor(0.0016), tensor(0.0016), tensor(0.0016), tensor(0.0017), tensor(0.0017), tensor(0.0017), tensor(0.0017), tensor(0.0017), tensor(0.0017), tensor(0.0017), tensor(0.0017), tensor(0.0018), tensor(0.0018), tensor(0.0018), tensor(0.0018), tensor(0.0018), tensor(0.0018), tensor(0.0018), tensor(0.0018), tensor(0.0019), tensor(0.0019), tensor(0.0019), tensor(0.0019), tensor(0.0019), tensor(0.0019), tensor(0.0019), tensor(0.0019), tensor(0.0020), tensor(0.0020), tensor(0.0020), tensor(0.0020), tensor(0.0020), tensor(0.0020), tensor(0.0020), tensor(0.0021), tensor(0.0021), tensor(0.0021), tensor(0.0021), tensor(0.0021), tensor(0.0021), tensor(0.0021), tensor(0.0022), tensor(0.0022), tensor(0.0022), tensor(0.0022), tensor(0.0022), tensor(0.0022), tensor(0.0022), tensor(0.0023), tensor(0.0023), tensor(0.0023), tensor(0.0023), tensor(0.0023), tensor(0.0023), tensor(0.0024), tensor(0.0024), tensor(0.0024), tensor(0.0024), tensor(0.0024), tensor(0.0024), tensor(0.0025), tensor(0.0025), tensor(0.0025), tensor(0.0025), tensor(0.0025), tensor(0.0025), tensor(0.0026), tensor(0.0026), tensor(0.0026), tensor(0.0026), tensor(0.0026), tensor(0.0027), tensor(0.0027), tensor(0.0027), tensor(0.0027), tensor(0.0027), tensor(0.0027), tensor(0.0028), tensor(0.0028), tensor(0.0028), tensor(0.0028), tensor(0.0028), tensor(0.0029), tensor(0.0029), tensor(0.0029), tensor(0.0029), tensor(0.0029), tensor(0.0030), tensor(0.0030), tensor(0.0030), tensor(0.0030), tensor(0.0030), tensor(0.0031), tensor(0.0031), tensor(0.0031), tensor(0.0031), tensor(0.0032), tensor(0.0032), tensor(0.0032), tensor(0.0032), tensor(0.0032), tensor(0.0033), tensor(0.0033), tensor(0.0033), tensor(0.0033), tensor(0.0034), tensor(0.0034), tensor(0.0034), tensor(0.0034), tensor(0.0034), tensor(0.0035), tensor(0.0035), tensor(0.0035), tensor(0.0035), tensor(0.0036), tensor(0.0036), tensor(0.0036), tensor(0.0036), tensor(0.0037), tensor(0.0037), tensor(0.0037), tensor(0.0037), tensor(0.0038), tensor(0.0038), tensor(0.0038), tensor(0.0039), tensor(0.0039), tensor(0.0039), tensor(0.0039), tensor(0.0040), tensor(0.0040), tensor(0.0040), tensor(0.0040), tensor(0.0041), tensor(0.0041), tensor(0.0041), tensor(0.0042), tensor(0.0042), tensor(0.0042), tensor(0.0042), tensor(0.0043), tensor(0.0043), tensor(0.0043), tensor(0.0044), tensor(0.0044), tensor(0.0044), tensor(0.0045), tensor(0.0045), tensor(0.0045), tensor(0.0045), tensor(0.0046), tensor(0.0046), tensor(0.0046), tensor(0.0047), tensor(0.0047), tensor(0.0047), tensor(0.0048), tensor(0.0048), tensor(0.0048), tensor(0.0049), tensor(0.0049), tensor(0.0049), tensor(0.0050), tensor(0.0050), tensor(0.0050), tensor(0.0051), tensor(0.0051), tensor(0.0051), tensor(0.0052), tensor(0.0052), tensor(0.0053), tensor(0.0053), tensor(0.0053), tensor(0.0054), tensor(0.0054), tensor(0.0054), tensor(0.0055), tensor(0.0055), tensor(0.0056), tensor(0.0056), tensor(0.0056), tensor(0.0057), tensor(0.0057), tensor(0.0058), tensor(0.0058), tensor(0.0058), tensor(0.0059), tensor(0.0059), tensor(0.0060), tensor(0.0060), tensor(0.0060), tensor(0.0061), tensor(0.0061), tensor(0.0062), tensor(0.0062), tensor(0.0062), tensor(0.0063), tensor(0.0063), tensor(0.0064), tensor(0.0064), tensor(0.0065), tensor(0.0065), tensor(0.0066), tensor(0.0066), tensor(0.0067), tensor(0.0067), tensor(0.0067), tensor(0.0068), tensor(0.0068), tensor(0.0069), tensor(0.0069), tensor(0.0070), tensor(0.0070), tensor(0.0071), tensor(0.0071), tensor(0.0072), tensor(0.0072), tensor(0.0073), tensor(0.0073), tensor(0.0074), tensor(0.0074), tensor(0.0075), tensor(0.0075), tensor(0.0076), tensor(0.0076), tensor(0.0077), tensor(0.0077), tensor(0.0078), tensor(0.0079), tensor(0.0079), tensor(0.0080), tensor(0.0080), tensor(0.0081), tensor(0.0081), tensor(0.0082), tensor(0.0082), tensor(0.0083), tensor(0.0084), tensor(0.0084), tensor(0.0085), tensor(0.0085), tensor(0.0086), tensor(0.0086), tensor(0.0087), tensor(0.0088), tensor(0.0088), tensor(0.0089), tensor(0.0090), tensor(0.0090), tensor(0.0091), tensor(0.0091), tensor(0.0092), tensor(0.0093), tensor(0.0093), tensor(0.0094), tensor(0.0095), tensor(0.0095), tensor(0.0096), tensor(0.0097), tensor(0.0097), tensor(0.0098), tensor(0.0099), tensor(0.0099), tensor(0.0100), tensor(0.0101), tensor(0.0101), tensor(0.0102), tensor(0.0103), tensor(0.0104), tensor(0.0104), tensor(0.0105), tensor(0.0106), tensor(0.0106), tensor(0.0107), tensor(0.0108), tensor(0.0109), tensor(0.0109), tensor(0.0110), tensor(0.0111), tensor(0.0112), tensor(0.0112), tensor(0.0113), tensor(0.0114), tensor(0.0115), tensor(0.0116), tensor(0.0116), tensor(0.0117), tensor(0.0118), tensor(0.0119), tensor(0.0120), tensor(0.0121), tensor(0.0121), tensor(0.0122), tensor(0.0123), tensor(0.0124), tensor(0.0125), tensor(0.0126), tensor(0.0127), tensor(0.0127), tensor(0.0128), tensor(0.0129), tensor(0.0130), tensor(0.0131), tensor(0.0132), tensor(0.0133), tensor(0.0134), tensor(0.0135), tensor(0.0136), tensor(0.0137), tensor(0.0137), tensor(0.0138), tensor(0.0139), tensor(0.0140), tensor(0.0141), tensor(0.0142), tensor(0.0143), tensor(0.0144), tensor(0.0145), tensor(0.0146), tensor(0.0147), tensor(0.0148), tensor(0.0149), tensor(0.0150), tensor(0.0151), tensor(0.0152), tensor(0.0154), tensor(0.0155), tensor(0.0156), tensor(0.0157), tensor(0.0158), tensor(0.0159), tensor(0.0160), tensor(0.0161), tensor(0.0162), tensor(0.0163), tensor(0.0165), tensor(0.0166), tensor(0.0167), tensor(0.0168), tensor(0.0169), tensor(0.0170), tensor(0.0171), tensor(0.0173), tensor(0.0174), tensor(0.0175), tensor(0.0176), tensor(0.0178), tensor(0.0179), tensor(0.0180), tensor(0.0181), tensor(0.0182), tensor(0.0184), tensor(0.0185), tensor(0.0186), tensor(0.0188), tensor(0.0189), tensor(0.0190), tensor(0.0192), tensor(0.0193), tensor(0.0194), tensor(0.0196), tensor(0.0197), tensor(0.0198), tensor(0.0200), tensor(0.0201), tensor(0.0202), tensor(0.0204), tensor(0.0205), tensor(0.0207), tensor(0.0208), tensor(0.0210), tensor(0.0211), tensor(0.0212), tensor(0.0214), tensor(0.0215), tensor(0.0217), tensor(0.0218), tensor(0.0220), tensor(0.0221), tensor(0.0223), tensor(0.0225), tensor(0.0226), tensor(0.0228), tensor(0.0229), tensor(0.0231), tensor(0.0232), tensor(0.0234), tensor(0.0236), tensor(0.0237), tensor(0.0239), tensor(0.0241), tensor(0.0242), tensor(0.0244), tensor(0.0246), tensor(0.0247), tensor(0.0249), tensor(0.0251), tensor(0.0253), tensor(0.0254), tensor(0.0256), tensor(0.0258), tensor(0.0260), tensor(0.0261), tensor(0.0263), tensor(0.0265), tensor(0.0267), tensor(0.0269), tensor(0.0271), tensor(0.0273), tensor(0.0274), tensor(0.0276), tensor(0.0278), tensor(0.0280), tensor(0.0282), tensor(0.0284), tensor(0.0286), tensor(0.0288), tensor(0.0290), tensor(0.0292), tensor(0.0294), tensor(0.0296), tensor(0.0298), tensor(0.0300), tensor(0.0302), tensor(0.0304), tensor(0.0307), tensor(0.0309), tensor(0.0311), tensor(0.0313), tensor(0.0315), tensor(0.0317), tensor(0.0320), tensor(0.0322), tensor(0.0324), tensor(0.0326), tensor(0.0328), tensor(0.0331), tensor(0.0333), tensor(0.0335), tensor(0.0338), tensor(0.0340), tensor(0.0342), tensor(0.0345), tensor(0.0347), tensor(0.0350), tensor(0.0352), tensor(0.0354), tensor(0.0357), tensor(0.0359), tensor(0.0362), tensor(0.0364), tensor(0.0367), tensor(0.0369), tensor(0.0372), tensor(0.0375), tensor(0.0377), tensor(0.0380), tensor(0.0382), tensor(0.0385), tensor(0.0388), tensor(0.0390), tensor(0.0393), tensor(0.0396), tensor(0.0399), tensor(0.0401), tensor(0.0404), tensor(0.0407), tensor(0.0410), tensor(0.0413), tensor(0.0416), tensor(0.0418), tensor(0.0421), tensor(0.0424), tensor(0.0427), tensor(0.0430), tensor(0.0433), tensor(0.0436), tensor(0.0439), tensor(0.0442), tensor(0.0445), tensor(0.0448), tensor(0.0451), tensor(0.0455), tensor(0.0458), tensor(0.0461), tensor(0.0464), tensor(0.0467), tensor(0.0471), tensor(0.0474), tensor(0.0477), tensor(0.0480), tensor(0.0484), tensor(0.0487), tensor(0.0491), tensor(0.0494), tensor(0.0497), tensor(0.0501), tensor(0.0504), tensor(0.0508), tensor(0.0511), tensor(0.0515), tensor(0.0518), tensor(0.0522), tensor(0.0526), tensor(0.0529), tensor(0.0533), tensor(0.0537), tensor(0.0540), tensor(0.0544), tensor(0.0548), tensor(0.0552), tensor(0.0556), tensor(0.0559), tensor(0.0563), tensor(0.0567), tensor(0.0571), tensor(0.0575), tensor(0.0579), tensor(0.0583), tensor(0.0587), tensor(0.0591), tensor(0.0595), tensor(0.0599), tensor(0.0604), tensor(0.0608), tensor(0.0612), tensor(0.0616), tensor(0.0621), tensor(0.0625), tensor(0.0629), tensor(0.0634), tensor(0.0638), tensor(0.0642), tensor(0.0647), tensor(0.0651), tensor(0.0656), tensor(0.0660), tensor(0.0665), tensor(0.0670), tensor(0.0674), tensor(0.0679), tensor(0.0684), tensor(0.0688), tensor(0.0693), tensor(0.0698), tensor(0.0703), tensor(0.0708), tensor(0.0713), tensor(0.0718), tensor(0.0723), tensor(0.0728), tensor(0.0733), tensor(0.0738), tensor(0.0743), tensor(0.0748), tensor(0.0753), tensor(0.0758), tensor(0.0764), tensor(0.0769), tensor(0.0774), tensor(0.0780), tensor(0.0785), tensor(0.0790), tensor(0.0796), tensor(0.0802), tensor(0.0807), tensor(0.0813), tensor(0.0818), tensor(0.0824), tensor(0.0830), tensor(0.0835), tensor(0.0841), tensor(0.0847), tensor(0.0853), tensor(0.0859), tensor(0.0865), tensor(0.0871), tensor(0.0877), tensor(0.0883), tensor(0.0889), tensor(0.0895), tensor(0.0901), tensor(0.0908), tensor(0.0914), tensor(0.0920), tensor(0.0927), tensor(0.0933), tensor(0.0940), tensor(0.0946), tensor(0.0953), tensor(0.0959), tensor(0.0966), tensor(0.0973), tensor(0.0979), tensor(0.0986), tensor(0.0993), tensor(0.1000), tensor(0.1007), tensor(0.1014), tensor(0.1021), tensor(0.1028), tensor(0.1035), tensor(0.1042), tensor(0.1050), tensor(0.1057), tensor(0.1064), tensor(0.1072), tensor(0.1079), tensor(0.1087), tensor(0.1094), tensor(0.1102), tensor(0.1109), tensor(0.1117), tensor(0.1125), tensor(0.1133), tensor(0.1140), tensor(0.1148), tensor(0.1156), tensor(0.1164), tensor(0.1172), tensor(0.1181), tensor(0.1189), tensor(0.1197), tensor(0.1205), tensor(0.1214), tensor(0.1222), tensor(0.1231), tensor(0.1239), tensor(0.1248), tensor(0.1256), tensor(0.1265), tensor(0.1274), tensor(0.1283), tensor(0.1292), tensor(0.1301), tensor(0.1310), tensor(0.1319), tensor(0.1328), tensor(0.1337), tensor(0.1346), tensor(0.1356), tensor(0.1365), tensor(0.1374), tensor(0.1384), tensor(0.1394), tensor(0.1403), tensor(0.1413), tensor(0.1423), tensor(0.1433), tensor(0.1443), tensor(0.1453), tensor(0.1463), tensor(0.1473), tensor(0.1483), tensor(0.1493), tensor(0.1504), tensor(0.1514), tensor(0.1525), tensor(0.1535), tensor(0.1546), tensor(0.1557), tensor(0.1567), tensor(0.1578), tensor(0.1589), tensor(0.1600), tensor(0.1611), tensor(0.1623), tensor(0.1634), tensor(0.1645), tensor(0.1657), tensor(0.1668), tensor(0.1680), tensor(0.1691), tensor(0.1703), tensor(0.1715), tensor(0.1727), tensor(0.1739), tensor(0.1751), tensor(0.1763), tensor(0.1775), tensor(0.1788), tensor(0.1800), tensor(0.1812), tensor(0.1825), tensor(0.1838), tensor(0.1850), tensor(0.1863), tensor(0.1876), tensor(0.1889), tensor(0.1902), tensor(0.1916), tensor(0.1929), tensor(0.1942), tensor(0.1956), tensor(0.1969), tensor(0.1983), tensor(0.1997), tensor(0.2010), tensor(0.2024), tensor(0.2038), tensor(0.2053), tensor(0.2067), tensor(0.2081), tensor(0.2096), tensor(0.2110), tensor(0.2125), tensor(0.2140), tensor(0.2154), tensor(0.2169), tensor(0.2184), tensor(0.2200), tensor(0.2215), tensor(0.2230), tensor(0.2246), tensor(0.2261), tensor(0.2277), tensor(0.2293), tensor(0.2309), tensor(0.2325), tensor(0.2341), tensor(0.2357), tensor(0.2373), tensor(0.2390), tensor(0.2406), tensor(0.2423), tensor(0.2440), tensor(0.2457), tensor(0.2474), tensor(0.2491), tensor(0.2508), tensor(0.2526), tensor(0.2543), tensor(0.2561), tensor(0.2579), tensor(0.2597), tensor(0.2615), tensor(0.2633), tensor(0.2651), tensor(0.2669), tensor(0.2688), tensor(0.2707), tensor(0.2725), tensor(0.2744), tensor(0.2763), tensor(0.2783), tensor(0.2802), tensor(0.2821), tensor(0.2841), tensor(0.2861), tensor(0.2880), tensor(0.2900), tensor(0.2921), tensor(0.2941), tensor(0.2961), tensor(0.2982), tensor(0.3002), tensor(0.3023), tensor(0.3044), tensor(0.3065), tensor(0.3087), tensor(0.3108), tensor(0.3130), tensor(0.3151), tensor(0.3173), tensor(0.3195), tensor(0.3217), tensor(0.3240), tensor(0.3262), tensor(0.3285), tensor(0.3308), tensor(0.3331), tensor(0.3354), tensor(0.3377), tensor(0.3400), tensor(0.3424), tensor(0.3448), tensor(0.3472), tensor(0.3496), tensor(0.3520), tensor(0.3544), tensor(0.3569), tensor(0.3594), tensor(0.3619), tensor(0.3644), tensor(0.3669), tensor(0.3695), tensor(0.3720), tensor(0.3746), tensor(0.3772), tensor(0.3798), tensor(0.3825), tensor(0.3851), tensor(0.3878), tensor(0.3905), tensor(0.3932), tensor(0.3959), tensor(0.3987), tensor(0.4014), tensor(0.4042), tensor(0.4070), tensor(0.4098), tensor(0.4127), tensor(0.4155), tensor(0.4184), tensor(0.4213), tensor(0.4243), tensor(0.4272), tensor(0.4302), tensor(0.4331), tensor(0.4362), tensor(0.4392), tensor(0.4422), tensor(0.4453), tensor(0.4484), tensor(0.4515), tensor(0.4546), tensor(0.4578), tensor(0.4610), tensor(0.4642), tensor(0.4674), tensor(0.4706), tensor(0.4739), tensor(0.4772), tensor(0.4805), tensor(0.4838), tensor(0.4872), tensor(0.4906), tensor(0.4940), tensor(0.4974), tensor(0.5008), tensor(0.5043), tensor(0.5078), tensor(0.5113), tensor(0.5149), tensor(0.5185), tensor(0.5221), tensor(0.5257), tensor(0.5293), tensor(0.5330), tensor(0.5367), tensor(0.5404), tensor(0.5442), tensor(0.5479), tensor(0.5517), tensor(0.5556), tensor(0.5594), tensor(0.5633), tensor(0.5672), tensor(0.5712), tensor(0.5751), tensor(0.5791), tensor(0.5831), tensor(0.5872), tensor(0.5913), tensor(0.5954), tensor(0.5995), tensor(0.6036), tensor(0.6078), tensor(0.6120), tensor(0.6163), tensor(0.6206), tensor(0.6249), tensor(0.6292), tensor(0.6336), tensor(0.6380), tensor(0.6424), tensor(0.6469), tensor(0.6513), tensor(0.6559), tensor(0.6604), tensor(0.6650), tensor(0.6696), tensor(0.6743), tensor(0.6789), tensor(0.6837), tensor(0.6884), tensor(0.6932), tensor(0.6980), tensor(0.7028), tensor(0.7077), tensor(0.7126), tensor(0.7176), tensor(0.7225), tensor(0.7275), tensor(0.7326), tensor(0.7377), tensor(0.7428), tensor(0.7480), tensor(0.7531), tensor(0.7584), tensor(0.7636), tensor(0.7689), tensor(0.7743), tensor(0.7796), tensor(0.7850), tensor(0.7905), tensor(0.7960), tensor(0.8015), tensor(0.8071), tensor(0.8127), tensor(0.8183), tensor(0.8240), tensor(0.8297), tensor(0.8355), tensor(0.8412), tensor(0.8471), tensor(0.8530), tensor(0.8589), tensor(0.8648), tensor(0.8708), tensor(0.8769), tensor(0.8830), tensor(0.8891), tensor(0.8953), tensor(0.9015), tensor(0.9077), tensor(0.9140), tensor(0.9204), tensor(0.9268), tensor(0.9332), tensor(0.9397), tensor(0.9462), tensor(0.9528), tensor(0.9594), tensor(0.9660), tensor(0.9727), tensor(0.9795), tensor(0.9863), tensor(0.9931), tensor(1.)]\n"
     ]
    }
   ],
   "source": [
    "print(lri)"
   ]
  },
  {
   "cell_type": "code",
   "execution_count": 108,
   "metadata": {},
   "outputs": [
    {
     "data": {
      "text/plain": [
       "[<matplotlib.lines.Line2D at 0x1a3a415a5c0>]"
      ]
     },
     "execution_count": 108,
     "metadata": {},
     "output_type": "execute_result"
    },
    {
     "data": {
      "image/png": "[encoded data removed]",
      "text/plain": [
       "<Figure size 640x480 with 1 Axes>"
      ]
     },
     "metadata": {},
     "output_type": "display_data"
    }
   ],
   "source": [
    "import matplotlib.pyplot as plt\n",
    "plt.plot(lri,lossi)"
   ]
  },
  {
   "cell_type": "code",
   "execution_count": 109,
   "metadata": {},
   "outputs": [],
   "source": [
    "\n",
    "for i in range(10000):\n",
    "    #Mini-Batch construct\n",
    "    ix=torch.randint(0,X.shape[0],(32,))\n",
    "    #forward pass\n",
    "    emb=C[X[ix]]\n",
    "    h=torch.tanh(emb.view(-1,6)@W1+b1)\n",
    "    logits=h@W2+b2\n",
    "    loss=F.cross_entropy(logits,Y[ix])\n",
    "    \n",
    "    \n",
    "\n",
    "    #backward pass\n",
    "    for p in parameters:\n",
    "        p.grad=None\n",
    "    loss.backward()\n",
    "\n",
    "    #update\n",
    "    #lr=lrs[i]\n",
    "    for p in parameters:\n",
    "        p.data+=-0.05*p.grad\n",
    "\n",
    "# #track stats\n",
    "#     lri.append(lr)\n",
    "#     lossi.append(loss.item())\n"
   ]
  },
  {
   "cell_type": "code",
   "execution_count": 170,
   "metadata": {},
   "outputs": [
    {
     "name": "stdout",
     "output_type": "stream",
     "text": [
      "torch.Size([182580, 3]) torch.Size([182580])\n",
      "torch.Size([22767, 3]) torch.Size([22767])\n",
      "torch.Size([22799, 3]) torch.Size([22799])\n"
     ]
    }
   ],
   "source": [
    "def build_dataset(words):\n",
    "    block_size=3\n",
    "    X, Y=[],[]\n",
    "    for w in words:\n",
    "        context=[0]*block_size\n",
    "        for ch in w+'.':\n",
    "            ix=stoi[ch]\n",
    "            X.append(context)\n",
    "            Y.append(ix)\n",
    "            context=context[1:]+[ix]\n",
    "\n",
    "    X=torch.tensor(X)\n",
    "    Y=torch.tensor(Y)\n",
    "    print(X.shape,Y.shape)\n",
    "    return X, Y\n",
    "\n",
    "import random\n",
    "random.seed(42)\n",
    "random.shuffle(words)\n",
    "n1=int(0.8*len(words))\n",
    "n2=int(0.9*len(words))\n",
    "\n",
    "Xtr,Ytr=build_dataset(words[:n1])\n",
    "Xdev,Ydev=build_dataset(words[n1:n2])\n",
    "Xte,Yte=build_dataset(words[n2:])"
   ]
  },
  {
   "cell_type": "code",
   "execution_count": 171,
   "metadata": {},
   "outputs": [],
   "source": [
    "g=torch.Generator().manual_seed(2147483647)\n",
    "C=torch.randn((27,10),generator=g)\n",
    "W1=torch.randn((30,200),generator=g)\n",
    "b1=torch.randn(200,generator=g)\n",
    "W2=torch.randn((200,27),generator=g)\n",
    "b2=torch.randn(27,generator=g)\n",
    "parameters=[C,W1,b1,W2,b2]"
   ]
  },
  {
   "cell_type": "code",
   "execution_count": 172,
   "metadata": {},
   "outputs": [],
   "source": [
    "for p in parameters:\n",
    "    p.requires_grad=True"
   ]
  },
  {
   "cell_type": "code",
   "execution_count": 173,
   "metadata": {},
   "outputs": [],
   "source": [
    "lossi=[]\n",
    "stepi=[]\n",
    "for i in range(10000):\n",
    "    #Mini-Batch construct\n",
    "    ix=torch.randint(0,Xtr.shape[0],(32,))\n",
    "    #forward pass\n",
    "    emb=C[Xtr[ix]]\n",
    "    h=torch.tanh(emb.view(-1,30)@W1+b1)\n",
    "    logits=h@W2+b2\n",
    "    loss=F.cross_entropy(logits,Ytr[ix])\n",
    "    \n",
    "    \n",
    "\n",
    "    #backward pass\n",
    "    for p in parameters:\n",
    "        p.grad=None\n",
    "    loss.backward()\n",
    "\n",
    "    #update\n",
    "    #lr=lrs[i]\n",
    "    for p in parameters:\n",
    "        p.data+=-0.01*p.grad\n",
    "\n",
    "# #track stats\n",
    "#     lri.append(lr)\n",
    "    stepi.append(i)\n",
    "    lossi.append(loss.log10().item())\n",
    "\n"
   ]
  },
  {
   "cell_type": "code",
   "execution_count": 174,
   "metadata": {},
   "outputs": [
    {
     "data": {
      "text/plain": [
       "[<matplotlib.lines.Line2D at 0x1a3b1c87280>]"
      ]
     },
     "execution_count": 174,
     "metadata": {},
     "output_type": "execute_result"
    },
    {
     "data": {
      "image/png": "[encoded data removed]",
      "text/plain": [
       "<Figure size 640x480 with 1 Axes>"
      ]
     },
     "metadata": {},
     "output_type": "display_data"
    }
   ],
   "source": [
    "plt.plot(stepi,lossi)"
   ]
  },
  {
   "cell_type": "code",
   "execution_count": 175,
   "metadata": {},
   "outputs": [
    {
     "name": "stdout",
     "output_type": "stream",
     "text": [
      "2.554121255874634\n"
     ]
    }
   ],
   "source": [
    "print(loss.item())"
   ]
  },
  {
   "cell_type": "code",
   "execution_count": 176,
   "metadata": {},
   "outputs": [
    {
     "data": {
      "text/plain": [
       "tensor(3.3186, grad_fn=<NllLossBackward0>)"
      ]
     },
     "execution_count": 176,
     "metadata": {},
     "output_type": "execute_result"
    }
   ],
   "source": [
    "emb=C[Xdev]\n",
    "h=torch.tanh(emb.view(-1,30)@W1+b1)\n",
    "logits=h@W2+b2\n",
    "loss=F.cross_entropy(logits,Ydev)\n",
    "loss"
   ]
  },
  {
   "cell_type": "code",
   "execution_count": 177,
   "metadata": {},
   "outputs": [
    {
     "data": {
      "text/plain": [
       "tensor(3.3355, grad_fn=<NllLossBackward0>)"
      ]
     },
     "execution_count": 177,
     "metadata": {},
     "output_type": "execute_result"
    }
   ],
   "source": [
    "emb=C[Xte]\n",
    "h=torch.tanh(emb.view(-1,30)@W1+b1)\n",
    "logits=h@W2+b2\n",
    "loss=F.cross_entropy(logits,Yte)\n",
    "loss"
   ]
  },
  {
   "cell_type": "code",
   "execution_count": 178,
   "metadata": {},
   "outputs": [
    {
     "data": {
      "text/plain": [
       "tensor(3.3195, grad_fn=<NllLossBackward0>)"
      ]
     },
     "execution_count": 178,
     "metadata": {},
     "output_type": "execute_result"
    }
   ],
   "source": [
    "emb=C[Xtr]\n",
    "h=torch.tanh(emb.view(-1,30)@W1+b1)\n",
    "logits=h@W2+b2\n",
    "loss=F.cross_entropy(logits,Ytr)\n",
    "loss"
   ]
  },
  {
   "cell_type": "code",
   "execution_count": 179,
   "metadata": {},
   "outputs": [
    {
     "data": {
      "image/png": "[encoded data removed]",
      "text/plain": [
       "<Figure size 800x800 with 1 Axes>"
      ]
     },
     "metadata": {},
     "output_type": "display_data"
    }
   ],
   "source": [
    "plt.figure(figsize=(8,8))\n",
    "plt.scatter(C[:,0].data,C[:,1].data,s=200)\n",
    "for i in range(C.shape[0]):\n",
    "    plt.text(C[i,0].item(),C[i,1].item(),itos[i],ha=\"center\",va=\"center\",color=\"white\")\n",
    "plt.grid('minor')"
   ]
  },
  {
   "cell_type": "code",
   "execution_count": null,
   "metadata": {},
   "outputs": [],
   "source": [
    "g=torch.Generator().manual_seed(2147483647)\n",
    "\n",
    "for _ in range(20):\n",
    "    out=[]\n",
    "    context=[0]*block_size\n",
    "    while True:\n",
    "        emb=C[torch.tensor([context])]\n",
    "        h=torch.tanh(emb.view(1,-1))@W1+b1\n",
    "        logits=h@W2+b2\n",
    "        probs=F.softmax(logits,dim=1)\n",
    "        ix=torch.multinomial(probs,num_samples=1,generator=g).item()\n",
    "        context=context[1:]+[ix]\n",
    "        out.append(ix)\n",
    "        if ix==0:\n",
    "            break\n",
    "    print(\"\".join([itos[i] for i in out]))\n"
   ]
  },
  {
   "cell_type": "code",
   "execution_count": null,
   "metadata": {},
   "outputs": [],
   "source": []
  }
 ],
 "metadata": {
  "kernelspec": {
   "display_name": "scratch",
   "language": "python",
   "name": "python3"
  },
  "language_info": {
   "codemirror_mode": {
    "name": "ipython",
    "version": 3
   },
   "file_extension": ".py",
   "mimetype": "text/x-python",
   "name": "python",
   "nbconvert_exporter": "python",
   "pygments_lexer": "ipython3",
   "version": "3.10.13"
  }
 },
 "nbformat": 4,
 "nbformat_minor": 2
}
